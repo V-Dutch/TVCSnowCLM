{
 "cells": [
  {
   "cell_type": "markdown",
   "metadata": {},
   "source": [
    "## Table of Contents\n",
    "\n",
    "### Part 1: [Alignment of SMP and Snow Pits / Evaluation of Proksch (P15) coefficients](./Part_1_Validation.ipynb)\n",
    "\n",
    " - Brute-force alignment of SMP with Snow Pits towards retrieval of snow density\n",
    " \n",
    "### Part 2: [Recalibration of SMP Density Coefficients](./Part_2_Calibration.ipynb)\n",
    "\n",
    " - Using SMP and Snow Pit data to compare with P15 model\n",
    " - Generates Figures [4](./Part_2_Calibration.ipynb#Figure-4-with-caption) and [5](./Part_2_Calibration.ipynb#Figure-5-with-caption)\n",
    " \n",
    "### Part 3: [Automated Classification of SMP Profiles](./Part_3_Classification.ipynb)\n",
    "\n",
    " - Determine whether each SMP profile belongs to `Rounded`, `Depth Hoar` or `Faceted` classes\n",
    " - Generates Figure [6](./Part_3_Classification.ipynb#Figure-6-with-caption)\n",
    " \n",
    "### Part 4: [Density and Layering Analysis](./Part_4_Density_Analysis.ipynb)\n",
    "\n",
    " - Descriptive analysis of snow layer properties by location and ice-type\n",
    " - Generates Figures [7](./Part_4_Density_Analysis.ipynb#Figure-7-with-caption), [8](./Part_4_Density_Analysis.ipynb#Figure-8-with-caption), [9](./Part_4_Density_Analysis.ipynb#Figure-9-with-caption) and [10](./Part_4_Density_Analysis.ipynb#Figure-10-with-caption)\n",
    " \n",
    "### Part 5: [Application](./Part_5_Application.ipynb)\n",
    "\n",
    " - Simulating density induced propagation bias in freeboard retrievals\n",
    " - Generates Figure [11](./Part_5_Application.ipynb#Figure-11-with-caption)\n",
    " \n",
    "### Annex: [Profile Matching](./Annex_Matching.ipynb)\n",
    "\n",
    " - Single example of brute-force approach shown in Part 1\n",
    " - Generates Figure [3](./Annex_Matching.ipynb#Figure-3-with-caption)"
   ]
  }
 ],
 "metadata": {
  "kernelspec": {
   "display_name": "Python 3",
   "language": "python",
   "name": "python3"
  },
  "language_info": {
   "codemirror_mode": {
    "name": "ipython",
    "version": 3
   },
   "file_extension": ".py",
   "mimetype": "text/x-python",
   "name": "python",
   "nbconvert_exporter": "python",
   "pygments_lexer": "ipython3",
   "version": "3.7.3"
  }
 },
 "nbformat": 4,
 "nbformat_minor": 2
}
