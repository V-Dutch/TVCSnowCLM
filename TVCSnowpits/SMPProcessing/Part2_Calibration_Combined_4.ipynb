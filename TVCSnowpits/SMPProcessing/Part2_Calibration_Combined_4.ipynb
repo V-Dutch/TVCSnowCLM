{
 "cells": [
  {
   "cell_type": "markdown",
   "metadata": {},
   "source": [
    "# Recalibration of SMP density coefficients\n",
    "*Josh King, Environment and Climate Change Canada, 2019*\n",
    "\n",
    "The matched snow pit and SMP measurements from Part 1 are used to recalibrate the bilinear regression model of Proksch et al., (2015).\n"
   ]
  },
  {
   "cell_type": "code",
   "execution_count": 1,
   "metadata": {},
   "outputs": [],
   "source": [
    "# Import community packages\n",
    "import os\n",
    "import string\n",
    "import pandas as pd\n",
    "import numpy as np\n",
    "from matplotlib import pyplot as plt\n",
    "plt.rcParams[\"font.family\"] = \"Times New Roman\"\n",
    "\n",
    "import matplotlib.cm as cm\n",
    "import pickle\n",
    "\n",
    "import scipy.stats\n",
    "from scipy import stats\n",
    "from statsmodels.formula.api import ols\n",
    "from sklearn.model_selection import KFold, StratifiedShuffleSplit\n",
    "\n",
    "# Seed to replicate the paper result exactly\n",
    "RANDOM_SEED = 2019\n",
    "\n",
    "# Load TVC comparison results from Part 1 \n",
    "march = pd.read_pickle(\"./output/TVC/TVC_March2019_smp_pit_filtered_4.pkl\") #March 2019\n",
    "jan = pd.read_pickle(\"./output/TVC/TVC_Jan2019_smp_pit_filtered_incN_3.pkl\") # Jan 2019 (Inc New Snow)\n",
    "\n",
    "# Combine both campaigns\n",
    "#https://pandas.pydata.org/pandas-docs/stable/user_guide/merging.html\n",
    "frames = [jan, march]\n",
    "result = pd.concat(frames)\n",
    "\n",
    "result['force_log'] = np.log(result['force_median'])"
   ]
  },
  {
   "cell_type": "code",
   "execution_count": 2,
   "metadata": {},
   "outputs": [
    {
     "name": "stdout",
     "output_type": "stream",
     "text": [
      "    count_samp   mean_samp  median_samp  stdev_samp  index  bottom     id  \\\n",
      "0            7   22.598556    21.468414    4.066480      0    47.0  RP_01   \n",
      "1            7  398.596814   409.300656   19.569935      1    44.0  RP_01   \n",
      "2            7  225.770318   218.796716   39.438038      2    41.0  RP_01   \n",
      "3            7  568.917286   571.620733   10.750147      3    38.0  RP_01   \n",
      "4            7  542.346539   543.534441    3.679610      4    35.0  RP_01   \n",
      "..         ...         ...          ...         ...    ...     ...    ...   \n",
      "44           7  465.832246   488.325714   53.536323      3    27.0  SM_03   \n",
      "45           7  309.951142   310.480971    3.153826      4    24.0  SM_03   \n",
      "47           7  371.702372   363.129251   42.921041      6    18.0  SM_03   \n",
      "48           7  294.654247   282.434343   27.079440      7    15.0  SM_03   \n",
      "49           7  361.120992   356.268174   26.862623      8    12.0  SM_03   \n",
      "\n",
      "      RHO   top TYPE  relative_height_mm         l  force_median       error  \\\n",
      "0   242.0  50.0    N                15.0  0.175196      0.010784 -219.401444   \n",
      "1   221.0  47.0    N                45.0  0.097293      0.955946  177.596814   \n",
      "2   153.0  44.0    N                75.0  0.189657      0.457522   72.770318   \n",
      "3   371.0  41.0    F               105.0  0.150041      7.867569  197.917286   \n",
      "4   385.0  38.0    F               135.0  0.174863      6.479529  157.346539   \n",
      "..    ...   ...  ...                 ...       ...           ...         ...   \n",
      "44  321.0  30.0    R               105.0  0.330928      4.866299  144.832246   \n",
      "45  196.0  27.0    D               135.0  1.259223      0.126730  113.951142   \n",
      "47  227.0  21.0    D               195.0  1.609549      0.092722  144.702372   \n",
      "48  189.0  18.0    D               225.0  1.275258      0.215742  105.654247   \n",
      "49  222.0  15.0    D               255.0  1.470443      0.084613  139.120992   \n",
      "\n",
      "    force_log  \n",
      "0   -4.529663  \n",
      "1   -0.045054  \n",
      "2   -0.781930  \n",
      "3    2.062749  \n",
      "4    1.868648  \n",
      "..        ...  \n",
      "44   1.582334  \n",
      "45  -2.065694  \n",
      "47  -2.378151  \n",
      "48  -1.533672  \n",
      "49  -2.469663  \n",
      "\n",
      "[228 rows x 15 columns]\n"
     ]
    }
   ],
   "source": [
    "print (result)"
   ]
  },
  {
   "cell_type": "code",
   "execution_count": 22,
   "metadata": {},
   "outputs": [
    {
     "name": "stdout",
     "output_type": "stream",
     "text": [
      "      RHO TYPE  bottom  count_samp       error  force_median     id  index  \\\n",
      "0   242.0    N    47.0           7 -219.401444      0.010784  RP_01      0   \n",
      "1   221.0    N    44.0           7  177.596814      0.955946  RP_01      1   \n",
      "2   153.0    N    41.0           7   72.770318      0.457522  RP_01      2   \n",
      "3   371.0    F    38.0           7  197.917286      7.867569  RP_01      3   \n",
      "4   385.0    F    35.0           7  157.346539      6.479529  RP_01      4   \n",
      "..    ...  ...     ...         ...         ...           ...    ...    ...   \n",
      "44  321.0    R    27.0           7  144.832246      4.866299  SM_03      3   \n",
      "45  196.0    D    24.0           7  113.951142      0.126730  SM_03      4   \n",
      "47  227.0    D    18.0           7  144.702372      0.092722  SM_03      6   \n",
      "48  189.0    D    15.0           7  105.654247      0.215742  SM_03      7   \n",
      "49  222.0    D    12.0           7  139.120992      0.084613  SM_03      8   \n",
      "\n",
      "           l   mean_samp  median_samp  relative_height_mm  stdev_samp   top  \\\n",
      "0   0.175196   22.598556    21.468414                15.0    4.066480  50.0   \n",
      "1   0.097293  398.596814   409.300656                45.0   19.569935  47.0   \n",
      "2   0.189657  225.770318   218.796716                75.0   39.438038  44.0   \n",
      "3   0.150041  568.917286   571.620733               105.0   10.750147  41.0   \n",
      "4   0.174863  542.346539   543.534441               135.0    3.679610  38.0   \n",
      "..       ...         ...          ...                 ...         ...   ...   \n",
      "44  0.330928  465.832246   488.325714               105.0   53.536323  30.0   \n",
      "45  1.259223  309.951142   310.480971               135.0    3.153826  27.0   \n",
      "47  1.609549  371.702372   363.129251               195.0   42.921041  21.0   \n",
      "48  1.275258  294.654247   282.434343               225.0   27.079440  18.0   \n",
      "49  1.470443  361.120992   356.268174               255.0   26.862623  15.0   \n",
      "\n",
      "    force_log  \n",
      "0   -4.529663  \n",
      "1   -0.045054  \n",
      "2   -0.781930  \n",
      "3    2.062749  \n",
      "4    1.868648  \n",
      "..        ...  \n",
      "44   1.582334  \n",
      "45  -2.065694  \n",
      "47  -2.378151  \n",
      "48  -1.533672  \n",
      "49  -2.469663  \n",
      "\n",
      "[228 rows x 15 columns]\n"
     ]
    }
   ],
   "source": [
    "#save to csv to use in matlab\n",
    "\n",
    "result_df = pd.DataFrame(result)\n",
    "print (result_df)\n",
    "result_df.to_csv('./output/TVC/TVC_Merged_Comparison_4.csv',na_rep='NaN')"
   ]
  },
  {
   "cell_type": "code",
   "execution_count": 5,
   "metadata": {},
   "outputs": [
    {
     "name": "stdout",
     "output_type": "stream",
     "text": [
      "Proksch et al. 2015 Eval.\n",
      "N: 228\n",
      "RMSE: 125.0\n",
      "bias: 95.0\n",
      "r^2: 0.73\n"
     ]
    }
   ],
   "source": [
    "#Compare manual density cutter measurements and SMP-derived densities\n",
    "# P2015 evaluation stats\n",
    "p2015_rmse = np.sqrt(np.mean(result['error']**2))\n",
    "p2015_bias = (result['error']).mean()\n",
    "p2015_r2 = np.ma.corrcoef(result['mean_samp'],result['RHO'])[0, 1]**2\n",
    "p2015_n = len(result['mean_samp'])\n",
    "p2015_p = stats.pearsonr(result['mean_samp'],result['RHO'])[1]\n",
    "\n",
    "print('Proksch et al. 2015 Eval.')\n",
    "print('N: %i' % p2015_n)\n",
    "print('RMSE: %0.1f' % np.round(p2015_rmse))\n",
    "print('bias: %0.1f' % np.round(p2015_bias))\n",
    "print('r^2: %0.2f' % p2015_r2)\n"
   ]
  },
  {
   "cell_type": "code",
   "execution_count": 9,
   "metadata": {},
   "outputs": [
    {
     "name": "stdout",
     "output_type": "stream",
     "text": [
      "King 2020 Eval.\n",
      "N: 228\n",
      "RMSE: 125.0\n",
      "bias: 95.0\n",
      "r^2: 0.73\n"
     ]
    }
   ],
   "source": []
  },
  {
   "cell_type": "markdown",
   "metadata": {},
   "source": [
    "## K-Folds OLS method\n",
    "\n",
    "OLS regression with 10 folds to minimize sampling bias.\n",
    "Model coefficients and skill are evaluated as the mean of all folds.  "
   ]
  },
  {
   "cell_type": "code",
   "execution_count": 23,
   "metadata": {},
   "outputs": [],
   "source": [
    "k_fold = KFold(10, True, RANDOM_SEED)\n",
    "rmse = []\n",
    "error = []\n",
    "r = []\n",
    "params = None\n",
    "\n",
    "# Split the dataset into 10 roughly equal groups, \n",
    "# train on all but one test group\n",
    "for train_idx, test_idx in k_fold.split(result):\n",
    "    train = result.iloc[train_idx]\n",
    "    test = result.iloc[test_idx]\n",
    "    \n",
    "    model_rho = ols(\"RHO ~ force_log + force_log * l + l\", train).fit()\n",
    "    predict_rho = model_rho.predict(exog=dict(force_log=test['force_log'], l=test['l']))\n",
    "    rmse = np.append(rmse, np.sqrt(np.mean((predict_rho - test['RHO'])**2)))\n",
    "    r = np.append(r,np.corrcoef(predict_rho, test['RHO'])[1][0])\n",
    "    error = np.append(error, predict_rho - test['RHO'])\n",
    "    \n",
    "    if params is None:\n",
    "        params = model_rho.params.values\n",
    "    else:\n",
    "        params =  np.vstack((params, model_rho.params.values))"
   ]
  },
  {
   "cell_type": "code",
   "execution_count": 24,
   "metadata": {},
   "outputs": [
    {
     "name": "stdout",
     "output_type": "stream",
     "text": [
      "K19a recalibration evaluation\n",
      "N: 228\n",
      "RMSE: 35.1\n",
      "RMSE percent: 0.13\n",
      "bias: -0.0\n",
      "r^2: 0.76\n"
     ]
    }
   ],
   "source": [
    "# K19a evaluation stats (from k-folds method)\n",
    "# Metrics presented as mean of all fold permutations\n",
    "\n",
    "k19a_rmse = rmse.mean()\n",
    "k19a_bias = error.mean()\n",
    "k19a_r2 = r.mean()**2\n",
    "\n",
    "print('K19a recalibration evaluation')\n",
    "print('N: %i' % len(result))\n",
    "print('RMSE: %0.1f' % k19a_rmse)\n",
    "print('RMSE percent: %0.2f' % np.round(k19a_rmse/result.RHO.mean(),2))\n",
    "print('bias: %0.1f' % k19a_bias)\n",
    "print('r^2: %0.2f' % k19a_r2)"
   ]
  },
  {
   "cell_type": "code",
   "execution_count": 25,
   "metadata": {},
   "outputs": [
    {
     "name": "stdout",
     "output_type": "stream",
     "text": [
      "[303.09, 38.89, -28.2, -61.15]\n"
     ]
    }
   ],
   "source": [
    "model_k19a_coeff = [np.round(params[:,0].mean(),2), np.round(params[:,1].mean(),2),\n",
    "              np.round(params[:,3].mean(),2), np.round(params[:,2].mean(),2)]\n",
    "var_coeffs = [np.round(params[:,0].std(),2), np.round(params[:,1].std(),2),\n",
    "              np.round(params[:,3].std(),2), np.round(params[:,2].std(),2)]\n",
    "\n",
    "# Unbiased coeffs\n",
    "print(model_k19a_coeff)\n",
    "\n",
    "# Save coeffs\n",
    "filename = './output/TVC/TVC_Merged_density_k19a_coeffs_incN_4.pkl'\n",
    "pickle.dump(model_k19a_coeff, open(filename, 'wb'))\n"
   ]
  },
  {
   "cell_type": "code",
   "execution_count": 26,
   "metadata": {},
   "outputs": [],
   "source": [
    "# Apply the new coeffs to estimate density\n",
    "k19a_rho = model_k19a_coeff[0]+(model_k19a_coeff[1]*result['force_log'])+ \\\n",
    "           (model_k19a_coeff[2]*result['force_log']*result['l'])+ \\\n",
    "           model_k19a_coeff[3]*result['l']\n"
   ]
  },
  {
   "cell_type": "code",
   "execution_count": 27,
   "metadata": {},
   "outputs": [
    {
     "name": "stdout",
     "output_type": "stream",
     "text": [
      "             0\n",
      "0   138.597049\n",
      "1   295.512020\n",
      "2   265.265236\n",
      "3   365.407469\n",
      "4   355.854250\n",
      "..         ...\n",
      "44  329.624086\n",
      "45  219.106652\n",
      "47  220.122352\n",
      "48  220.617811\n",
      "49  219.535478\n",
      "\n",
      "[228 rows x 1 columns]\n"
     ]
    }
   ],
   "source": [
    "#save new densities\n",
    "\n",
    "k19a_rho_df = pd.DataFrame(k19a_rho)\n",
    "print (k19a_rho_df)\n",
    "k19a_rho_df.to_csv('./output/TVC/TVC_Merged_k19aDensities_incN_4.csv',na_rep='NaN')"
   ]
  },
  {
   "cell_type": "markdown",
   "metadata": {},
   "source": [
    "## K-folds OLS with outliers removed\n",
    "\n",
    "Outliers were defined as SMP/Cutter comparisons where error > than the 95th quantile in the K19a recalibration.  \n",
    "We justify this in the paper in the context of the matching procedure which cannot be assumed to be perfect.  \n",
    "Note that this removes a small number of comparisons which are not isolated to any one profile."
   ]
  },
  {
   "cell_type": "code",
   "execution_count": 28,
   "metadata": {},
   "outputs": [
    {
     "name": "stdout",
     "output_type": "stream",
     "text": [
      "Error threshold: 67 kg m^-3\n",
      "Data points removed: 12\n"
     ]
    }
   ],
   "source": [
    "#Remove outliers\n",
    "result_lim = result.copy()\n",
    "result_lim['f_l'] = (result_lim['l'])*result_lim['force_log']\n",
    "result_lim['abs_error'] = np.abs(k19a_rho - result_lim['RHO'])\n",
    "q_95 = result_lim['abs_error'].quantile(0.95) # This error threashold is still quite large, do I want to change this?\n",
    "result_lim = result_lim[result_lim['abs_error'] < q_95]\n",
    "n_removed  = len(result) - len(result_lim)\n",
    "\n",
    "print('Error threshold: %i kg m^-3' % q_95 )\n",
    "print('Data points removed: %i' % n_removed)"
   ]
  },
  {
   "cell_type": "code",
   "execution_count": 29,
   "metadata": {},
   "outputs": [
    {
     "data": {
      "text/plain": [
       "67.80806272272523"
      ]
     },
     "execution_count": 29,
     "metadata": {},
     "output_type": "execute_result"
    }
   ],
   "source": [
    "q_95"
   ]
  },
  {
   "cell_type": "markdown",
   "metadata": {},
   "source": [
    "#### Figure 5 with caption\n",
    "![png](./output/figures/Fig05_RegressionTerms_lowres.png)\n",
    "##### Comparison of the SMP regression parameters and corresponding snow density observations. Parameters include log-transformed median force (ln(F ̃)), microstructure length scale (L) and an interaction term (f ̃L). Relationships are separated by ice surface environment.'"
   ]
  },
  {
   "cell_type": "code",
   "execution_count": 33,
   "metadata": {},
   "outputs": [
    {
     "name": "stdout",
     "output_type": "stream",
     "text": [
      "0.88\n"
     ]
    }
   ],
   "source": [
    "# Correlation between snow pit observed density and median force.L for all comparisons\n",
    "print(np.round(np.corrcoef(result_lim.RHO, result_lim.force_log)[0][1],2))"
   ]
  },
  {
   "cell_type": "code",
   "execution_count": 34,
   "metadata": {},
   "outputs": [
    {
     "name": "stdout",
     "output_type": "stream",
     "text": [
      "R2 = 0.8767822554224868\n",
      "p = 5.624134292284972e-70\n"
     ]
    }
   ],
   "source": [
    "r, p = scipy.stats.pearsonr(result_lim.RHO, result_lim.force_log)\n",
    "print('R2 = ' + str(r))\n",
    "print('p = ' + str(p))"
   ]
  },
  {
   "cell_type": "code",
   "execution_count": 35,
   "metadata": {},
   "outputs": [
    {
     "data": {
      "text/html": [
       "<div>\n",
       "<style scoped>\n",
       "    .dataframe tbody tr th:only-of-type {\n",
       "        vertical-align: middle;\n",
       "    }\n",
       "\n",
       "    .dataframe tbody tr th {\n",
       "        vertical-align: top;\n",
       "    }\n",
       "\n",
       "    .dataframe thead th {\n",
       "        text-align: right;\n",
       "    }\n",
       "</style>\n",
       "<table border=\"1\" class=\"dataframe\">\n",
       "  <thead>\n",
       "    <tr style=\"text-align: right;\">\n",
       "      <th></th>\n",
       "      <th>RHO</th>\n",
       "      <th>force_log</th>\n",
       "      <th>l</th>\n",
       "      <th>f_l</th>\n",
       "    </tr>\n",
       "  </thead>\n",
       "  <tbody>\n",
       "    <tr>\n",
       "      <th>RHO</th>\n",
       "      <td>1.000000</td>\n",
       "      <td>0.876782</td>\n",
       "      <td>-0.685092</td>\n",
       "      <td>0.667183</td>\n",
       "    </tr>\n",
       "    <tr>\n",
       "      <th>force_log</th>\n",
       "      <td>0.876782</td>\n",
       "      <td>1.000000</td>\n",
       "      <td>-0.637046</td>\n",
       "      <td>0.851955</td>\n",
       "    </tr>\n",
       "    <tr>\n",
       "      <th>l</th>\n",
       "      <td>-0.685092</td>\n",
       "      <td>-0.637046</td>\n",
       "      <td>1.000000</td>\n",
       "      <td>-0.764574</td>\n",
       "    </tr>\n",
       "    <tr>\n",
       "      <th>f_l</th>\n",
       "      <td>0.667183</td>\n",
       "      <td>0.851955</td>\n",
       "      <td>-0.764574</td>\n",
       "      <td>1.000000</td>\n",
       "    </tr>\n",
       "  </tbody>\n",
       "</table>\n",
       "</div>"
      ],
      "text/plain": [
       "                RHO  force_log         l       f_l\n",
       "RHO        1.000000   0.876782 -0.685092  0.667183\n",
       "force_log  0.876782   1.000000 -0.637046  0.851955\n",
       "l         -0.685092  -0.637046  1.000000 -0.764574\n",
       "f_l        0.667183   0.851955 -0.764574  1.000000"
      ]
     },
     "execution_count": 35,
     "metadata": {},
     "output_type": "execute_result"
    }
   ],
   "source": [
    "# Correlation between snow pit observed density and median force, microstructural length scale and the interaction term\n",
    "result_lim[['RHO','force_log','l','f_l']].corr()"
   ]
  },
  {
   "cell_type": "code",
   "execution_count": 36,
   "metadata": {},
   "outputs": [],
   "source": [
    "k_fold = KFold(10, True, RANDOM_SEED)\n",
    "rmse = []\n",
    "error = []\n",
    "r = []\n",
    "params = None\n",
    "\n",
    "for train_idx, test_idx in k_fold.split(result_lim):\n",
    "    train = result_lim.iloc[train_idx]\n",
    "    test = result_lim.iloc[test_idx]\n",
    "    \n",
    "    model_rho = ols(\"RHO ~ force_log + force_log * l + l\", train).fit()\n",
    "    predict_rho = model_rho.predict(exog=dict(force_log=test['force_log'], l=test['l']))\n",
    "    rmse = np.append(rmse, np.sqrt(np.mean((predict_rho - test['RHO'])**2)))\n",
    "    r = np.append(r,np.corrcoef(predict_rho, test['RHO'])[1][0])\n",
    "    error = np.append(error, predict_rho - test['RHO'])\n",
    "    \n",
    "    if params is None:\n",
    "        params = model_rho.params.values\n",
    "    else:\n",
    "        params =  np.vstack((params, model_rho.params.values))"
   ]
  },
  {
   "cell_type": "code",
   "execution_count": 37,
   "metadata": {},
   "outputs": [
    {
     "name": "stdout",
     "output_type": "stream",
     "text": [
      "K19b recalibration evaluation\n",
      "N: 216\n",
      "RMSE: 25.2\n",
      "RMSE percent: 0.09\n",
      "bias: -0.2\n",
      "r^2: 0.88\n"
     ]
    }
   ],
   "source": [
    "# K19b evaluation stats (from kfolds method)\n",
    "k19b_rmse = rmse.mean()\n",
    "k19b_bias = error.mean()\n",
    "k19b_r2 = r.mean()**2\n",
    "\n",
    "print('K19b recalibration evaluation')\n",
    "print('N: %i' % len(result_lim))\n",
    "print('RMSE: %0.1f' % k19b_rmse)\n",
    "print('RMSE percent: %0.2f' % np.round(k19b_rmse/result_lim.RHO.mean(),2))\n",
    "print('bias: %0.1f' % k19b_bias)\n",
    "print('r^2: %0.2f' % k19b_r2)"
   ]
  },
  {
   "cell_type": "code",
   "execution_count": 38,
   "metadata": {
    "scrolled": true
   },
   "outputs": [
    {
     "name": "stdout",
     "output_type": "stream",
     "text": [
      "[307.36, 43.51, -38.95, -79.36]\n"
     ]
    }
   ],
   "source": [
    "model_k19b_coeff = [np.round(params[:,0].mean(),2), np.round(params[:,1].mean(),2),\n",
    "              np.round(params[:,3].mean(),2), np.round(params[:,2].mean(),2)]\n",
    "var_coeffs = [np.round(params[:,0].std(),2), np.round(params[:,1].std(),2),\n",
    "              np.round(params[:,3].std(),2), np.round(params[:,2].std(),2)]\n",
    "\n",
    "# Unbiased coeffs\n",
    "print(model_k19b_coeff)\n",
    "\n",
    "# Save coeffs\n",
    "filename = './output/TVC/TVC_Merged_density_k19b_coeffs_incN_4.pkl'\n",
    "pickle.dump(model_k19b_coeff, open(filename, 'wb'))"
   ]
  },
  {
   "cell_type": "code",
   "execution_count": 39,
   "metadata": {},
   "outputs": [
    {
     "name": "stdout",
     "output_type": "stream",
     "text": [
      "             0\n",
      "3   373.148024\n",
      "4   362.060496\n",
      "5   352.533566\n",
      "6   245.196767\n",
      "7   230.506700\n",
      "..         ...\n",
      "44  329.549149\n",
      "45  218.865264\n",
      "47  225.243724\n",
      "48  215.604942\n",
      "49  224.657474\n",
      "\n",
      "[216 rows x 1 columns]\n"
     ]
    }
   ],
   "source": [
    "k19b_rho = model_k19b_coeff[0]+(model_k19b_coeff[1]*result_lim['force_log'])+ \\\n",
    "           (model_k19b_coeff[2]*result_lim['force_log']*result_lim['l'])+ \\\n",
    "           model_k19b_coeff[3]*result_lim['l']\n",
    "\n",
    "#save new densities\n",
    "\n",
    "k19b_rho_df = pd.DataFrame(k19b_rho)\n",
    "print (k19b_rho_df)\n",
    "k19b_rho_df.to_csv('./output/TVC/TVC_Merged_k19bDensities_incN_4.csv',na_rep='NaN')"
   ]
  },
  {
   "cell_type": "code",
   "execution_count": 40,
   "metadata": {},
   "outputs": [
    {
     "data": {
      "text/plain": [
       "TYPE\n",
       "D    0.095\n",
       "F    0.089\n",
       "N    0.084\n",
       "R    0.089\n",
       "dtype: float64"
      ]
     },
     "execution_count": 40,
     "metadata": {},
     "output_type": "execute_result"
    }
   ],
   "source": [
    "# Error metrics\n",
    "def rmse(data):\n",
    "    return np.sqrt(np.mean(data**2))\n",
    "\n",
    "result_lim['model_rho'] = k19b_rho\n",
    "result_lim['abs_error'] = np.abs(k19b_rho-result_lim['RHO']).values\n",
    "result_lim['error'] = (k19b_rho-result_lim['RHO']).values\n",
    "\n",
    "# Error by layer type\n",
    "np.round(result_lim.groupby('TYPE')['error'].apply(rmse)/result_lim.groupby('TYPE')['model_rho'].mean(),3)"
   ]
  },
  {
   "cell_type": "code",
   "execution_count": 41,
   "metadata": {},
   "outputs": [
    {
     "data": {
      "text/plain": [
       "TYPE\n",
       "D    21.52\n",
       "F    27.03\n",
       "N    28.34\n",
       "R    28.92\n",
       "Name: error, dtype: float64"
      ]
     },
     "execution_count": 41,
     "metadata": {},
     "output_type": "execute_result"
    }
   ],
   "source": [
    "#RMSE by layer type\n",
    "np.round(result_lim.groupby('TYPE')['error'].apply(rmse), 2)"
   ]
  },
  {
   "cell_type": "code",
   "execution_count": 42,
   "metadata": {},
   "outputs": [
    {
     "data": {
      "text/plain": [
       "0.091"
      ]
     },
     "execution_count": 42,
     "metadata": {},
     "output_type": "execute_result"
    }
   ],
   "source": [
    "# Overall error in %\n",
    "np.round((rmse(result_lim['error'])/result_lim['model_rho'].mean()),3)"
   ]
  },
  {
   "cell_type": "code",
   "execution_count": 44,
   "metadata": {},
   "outputs": [
    {
     "ename": "TypeError",
     "evalue": "'numpy.float64' object is not callable",
     "output_type": "error",
     "traceback": [
      "\u001b[1;31m---------------------------------------------------------------------------\u001b[0m",
      "\u001b[1;31mTypeError\u001b[0m                                 Traceback (most recent call last)",
      "\u001b[1;32m~\\Anaconda\\envs\\smp-sea-ice\\lib\\site-packages\\pandas\\core\\groupby\\groupby.py\u001b[0m in \u001b[0;36mapply\u001b[1;34m(self, func, *args, **kwargs)\u001b[0m\n\u001b[0;32m    724\u001b[0m             \u001b[1;32mtry\u001b[0m\u001b[1;33m:\u001b[0m\u001b[1;33m\u001b[0m\u001b[1;33m\u001b[0m\u001b[0m\n\u001b[1;32m--> 725\u001b[1;33m                 \u001b[0mresult\u001b[0m \u001b[1;33m=\u001b[0m \u001b[0mself\u001b[0m\u001b[1;33m.\u001b[0m\u001b[0m_python_apply_general\u001b[0m\u001b[1;33m(\u001b[0m\u001b[0mf\u001b[0m\u001b[1;33m)\u001b[0m\u001b[1;33m\u001b[0m\u001b[1;33m\u001b[0m\u001b[0m\n\u001b[0m\u001b[0;32m    726\u001b[0m             \u001b[1;32mexcept\u001b[0m \u001b[0mException\u001b[0m\u001b[1;33m:\u001b[0m\u001b[1;33m\u001b[0m\u001b[1;33m\u001b[0m\u001b[0m\n",
      "\u001b[1;32m~\\Anaconda\\envs\\smp-sea-ice\\lib\\site-packages\\pandas\\core\\groupby\\groupby.py\u001b[0m in \u001b[0;36m_python_apply_general\u001b[1;34m(self, f)\u001b[0m\n\u001b[0;32m    741\u001b[0m     \u001b[1;32mdef\u001b[0m \u001b[0m_python_apply_general\u001b[0m\u001b[1;33m(\u001b[0m\u001b[0mself\u001b[0m\u001b[1;33m,\u001b[0m \u001b[0mf\u001b[0m\u001b[1;33m)\u001b[0m\u001b[1;33m:\u001b[0m\u001b[1;33m\u001b[0m\u001b[1;33m\u001b[0m\u001b[0m\n\u001b[1;32m--> 742\u001b[1;33m         \u001b[0mkeys\u001b[0m\u001b[1;33m,\u001b[0m \u001b[0mvalues\u001b[0m\u001b[1;33m,\u001b[0m \u001b[0mmutated\u001b[0m \u001b[1;33m=\u001b[0m \u001b[0mself\u001b[0m\u001b[1;33m.\u001b[0m\u001b[0mgrouper\u001b[0m\u001b[1;33m.\u001b[0m\u001b[0mapply\u001b[0m\u001b[1;33m(\u001b[0m\u001b[0mf\u001b[0m\u001b[1;33m,\u001b[0m \u001b[0mself\u001b[0m\u001b[1;33m.\u001b[0m\u001b[0m_selected_obj\u001b[0m\u001b[1;33m,\u001b[0m \u001b[0mself\u001b[0m\u001b[1;33m.\u001b[0m\u001b[0maxis\u001b[0m\u001b[1;33m)\u001b[0m\u001b[1;33m\u001b[0m\u001b[1;33m\u001b[0m\u001b[0m\n\u001b[0m\u001b[0;32m    743\u001b[0m \u001b[1;33m\u001b[0m\u001b[0m\n",
      "\u001b[1;32m~\\Anaconda\\envs\\smp-sea-ice\\lib\\site-packages\\pandas\\core\\groupby\\ops.py\u001b[0m in \u001b[0;36mapply\u001b[1;34m(self, f, data, axis)\u001b[0m\n\u001b[0;32m    236\u001b[0m             \u001b[0mgroup_axes\u001b[0m \u001b[1;33m=\u001b[0m \u001b[0m_get_axes\u001b[0m\u001b[1;33m(\u001b[0m\u001b[0mgroup\u001b[0m\u001b[1;33m)\u001b[0m\u001b[1;33m\u001b[0m\u001b[1;33m\u001b[0m\u001b[0m\n\u001b[1;32m--> 237\u001b[1;33m             \u001b[0mres\u001b[0m \u001b[1;33m=\u001b[0m \u001b[0mf\u001b[0m\u001b[1;33m(\u001b[0m\u001b[0mgroup\u001b[0m\u001b[1;33m)\u001b[0m\u001b[1;33m\u001b[0m\u001b[1;33m\u001b[0m\u001b[0m\n\u001b[0m\u001b[0;32m    238\u001b[0m             \u001b[1;32mif\u001b[0m \u001b[1;32mnot\u001b[0m \u001b[0m_is_indexed_like\u001b[0m\u001b[1;33m(\u001b[0m\u001b[0mres\u001b[0m\u001b[1;33m,\u001b[0m \u001b[0mgroup_axes\u001b[0m\u001b[1;33m)\u001b[0m\u001b[1;33m:\u001b[0m\u001b[1;33m\u001b[0m\u001b[1;33m\u001b[0m\u001b[0m\n",
      "\u001b[1;31mTypeError\u001b[0m: 'numpy.float64' object is not callable",
      "\nDuring handling of the above exception, another exception occurred:\n",
      "\u001b[1;31mTypeError\u001b[0m                                 Traceback (most recent call last)",
      "\u001b[1;32m<ipython-input-44-c854699bdf17>\u001b[0m in \u001b[0;36m<module>\u001b[1;34m\u001b[0m\n\u001b[0;32m      1\u001b[0m \u001b[1;31m#R^2 by layer type > Error is saying r2 is not defined, but it is\u001b[0m\u001b[1;33m\u001b[0m\u001b[1;33m\u001b[0m\u001b[1;33m\u001b[0m\u001b[0m\n\u001b[1;32m----> 2\u001b[1;33m \u001b[0mnp\u001b[0m\u001b[1;33m.\u001b[0m\u001b[0mround\u001b[0m\u001b[1;33m(\u001b[0m\u001b[0mresult_lim\u001b[0m\u001b[1;33m.\u001b[0m\u001b[0mgroupby\u001b[0m\u001b[1;33m(\u001b[0m\u001b[1;34m'TYPE'\u001b[0m\u001b[1;33m)\u001b[0m\u001b[1;33m[\u001b[0m\u001b[1;34m'error'\u001b[0m\u001b[1;33m]\u001b[0m\u001b[1;33m.\u001b[0m\u001b[0mapply\u001b[0m\u001b[1;33m(\u001b[0m\u001b[0mk19b_r2\u001b[0m\u001b[1;33m)\u001b[0m\u001b[1;33m,\u001b[0m \u001b[1;36m2\u001b[0m\u001b[1;33m)\u001b[0m\u001b[1;33m\u001b[0m\u001b[1;33m\u001b[0m\u001b[0m\n\u001b[0m",
      "\u001b[1;32m~\\Anaconda\\envs\\smp-sea-ice\\lib\\site-packages\\pandas\\core\\groupby\\generic.py\u001b[0m in \u001b[0;36mapply\u001b[1;34m(self, func, *args, **kwargs)\u001b[0m\n\u001b[0;32m    813\u001b[0m     )\n\u001b[0;32m    814\u001b[0m     \u001b[1;32mdef\u001b[0m \u001b[0mapply\u001b[0m\u001b[1;33m(\u001b[0m\u001b[0mself\u001b[0m\u001b[1;33m,\u001b[0m \u001b[0mfunc\u001b[0m\u001b[1;33m,\u001b[0m \u001b[1;33m*\u001b[0m\u001b[0margs\u001b[0m\u001b[1;33m,\u001b[0m \u001b[1;33m**\u001b[0m\u001b[0mkwargs\u001b[0m\u001b[1;33m)\u001b[0m\u001b[1;33m:\u001b[0m\u001b[1;33m\u001b[0m\u001b[1;33m\u001b[0m\u001b[0m\n\u001b[1;32m--> 815\u001b[1;33m         \u001b[1;32mreturn\u001b[0m \u001b[0msuper\u001b[0m\u001b[1;33m(\u001b[0m\u001b[1;33m)\u001b[0m\u001b[1;33m.\u001b[0m\u001b[0mapply\u001b[0m\u001b[1;33m(\u001b[0m\u001b[0mfunc\u001b[0m\u001b[1;33m,\u001b[0m \u001b[1;33m*\u001b[0m\u001b[0margs\u001b[0m\u001b[1;33m,\u001b[0m \u001b[1;33m**\u001b[0m\u001b[0mkwargs\u001b[0m\u001b[1;33m)\u001b[0m\u001b[1;33m\u001b[0m\u001b[1;33m\u001b[0m\u001b[0m\n\u001b[0m\u001b[0;32m    816\u001b[0m \u001b[1;33m\u001b[0m\u001b[0m\n\u001b[0;32m    817\u001b[0m     @Substitution(\n",
      "\u001b[1;32m~\\Anaconda\\envs\\smp-sea-ice\\lib\\site-packages\\pandas\\core\\groupby\\groupby.py\u001b[0m in \u001b[0;36mapply\u001b[1;34m(self, func, *args, **kwargs)\u001b[0m\n\u001b[0;32m    735\u001b[0m \u001b[1;33m\u001b[0m\u001b[0m\n\u001b[0;32m    736\u001b[0m                 \u001b[1;32mwith\u001b[0m \u001b[0m_group_selection_context\u001b[0m\u001b[1;33m(\u001b[0m\u001b[0mself\u001b[0m\u001b[1;33m)\u001b[0m\u001b[1;33m:\u001b[0m\u001b[1;33m\u001b[0m\u001b[1;33m\u001b[0m\u001b[0m\n\u001b[1;32m--> 737\u001b[1;33m                     \u001b[1;32mreturn\u001b[0m \u001b[0mself\u001b[0m\u001b[1;33m.\u001b[0m\u001b[0m_python_apply_general\u001b[0m\u001b[1;33m(\u001b[0m\u001b[0mf\u001b[0m\u001b[1;33m)\u001b[0m\u001b[1;33m\u001b[0m\u001b[1;33m\u001b[0m\u001b[0m\n\u001b[0m\u001b[0;32m    738\u001b[0m \u001b[1;33m\u001b[0m\u001b[0m\n\u001b[0;32m    739\u001b[0m         \u001b[1;32mreturn\u001b[0m \u001b[0mresult\u001b[0m\u001b[1;33m\u001b[0m\u001b[1;33m\u001b[0m\u001b[0m\n",
      "\u001b[1;32m~\\Anaconda\\envs\\smp-sea-ice\\lib\\site-packages\\pandas\\core\\groupby\\groupby.py\u001b[0m in \u001b[0;36m_python_apply_general\u001b[1;34m(self, f)\u001b[0m\n\u001b[0;32m    740\u001b[0m \u001b[1;33m\u001b[0m\u001b[0m\n\u001b[0;32m    741\u001b[0m     \u001b[1;32mdef\u001b[0m \u001b[0m_python_apply_general\u001b[0m\u001b[1;33m(\u001b[0m\u001b[0mself\u001b[0m\u001b[1;33m,\u001b[0m \u001b[0mf\u001b[0m\u001b[1;33m)\u001b[0m\u001b[1;33m:\u001b[0m\u001b[1;33m\u001b[0m\u001b[1;33m\u001b[0m\u001b[0m\n\u001b[1;32m--> 742\u001b[1;33m         \u001b[0mkeys\u001b[0m\u001b[1;33m,\u001b[0m \u001b[0mvalues\u001b[0m\u001b[1;33m,\u001b[0m \u001b[0mmutated\u001b[0m \u001b[1;33m=\u001b[0m \u001b[0mself\u001b[0m\u001b[1;33m.\u001b[0m\u001b[0mgrouper\u001b[0m\u001b[1;33m.\u001b[0m\u001b[0mapply\u001b[0m\u001b[1;33m(\u001b[0m\u001b[0mf\u001b[0m\u001b[1;33m,\u001b[0m \u001b[0mself\u001b[0m\u001b[1;33m.\u001b[0m\u001b[0m_selected_obj\u001b[0m\u001b[1;33m,\u001b[0m \u001b[0mself\u001b[0m\u001b[1;33m.\u001b[0m\u001b[0maxis\u001b[0m\u001b[1;33m)\u001b[0m\u001b[1;33m\u001b[0m\u001b[1;33m\u001b[0m\u001b[0m\n\u001b[0m\u001b[0;32m    743\u001b[0m \u001b[1;33m\u001b[0m\u001b[0m\n\u001b[0;32m    744\u001b[0m         return self._wrap_applied_output(\n",
      "\u001b[1;32m~\\Anaconda\\envs\\smp-sea-ice\\lib\\site-packages\\pandas\\core\\groupby\\ops.py\u001b[0m in \u001b[0;36mapply\u001b[1;34m(self, f, data, axis)\u001b[0m\n\u001b[0;32m    235\u001b[0m             \u001b[1;31m# group might be modified\u001b[0m\u001b[1;33m\u001b[0m\u001b[1;33m\u001b[0m\u001b[1;33m\u001b[0m\u001b[0m\n\u001b[0;32m    236\u001b[0m             \u001b[0mgroup_axes\u001b[0m \u001b[1;33m=\u001b[0m \u001b[0m_get_axes\u001b[0m\u001b[1;33m(\u001b[0m\u001b[0mgroup\u001b[0m\u001b[1;33m)\u001b[0m\u001b[1;33m\u001b[0m\u001b[1;33m\u001b[0m\u001b[0m\n\u001b[1;32m--> 237\u001b[1;33m             \u001b[0mres\u001b[0m \u001b[1;33m=\u001b[0m \u001b[0mf\u001b[0m\u001b[1;33m(\u001b[0m\u001b[0mgroup\u001b[0m\u001b[1;33m)\u001b[0m\u001b[1;33m\u001b[0m\u001b[1;33m\u001b[0m\u001b[0m\n\u001b[0m\u001b[0;32m    238\u001b[0m             \u001b[1;32mif\u001b[0m \u001b[1;32mnot\u001b[0m \u001b[0m_is_indexed_like\u001b[0m\u001b[1;33m(\u001b[0m\u001b[0mres\u001b[0m\u001b[1;33m,\u001b[0m \u001b[0mgroup_axes\u001b[0m\u001b[1;33m)\u001b[0m\u001b[1;33m:\u001b[0m\u001b[1;33m\u001b[0m\u001b[1;33m\u001b[0m\u001b[0m\n\u001b[0;32m    239\u001b[0m                 \u001b[0mmutated\u001b[0m \u001b[1;33m=\u001b[0m \u001b[1;32mTrue\u001b[0m\u001b[1;33m\u001b[0m\u001b[1;33m\u001b[0m\u001b[0m\n",
      "\u001b[1;31mTypeError\u001b[0m: 'numpy.float64' object is not callable"
     ]
    }
   ],
   "source": [
    "#R^2 by layer type > Error is saying r2 is not defined, but it is\n",
    "np.round(result_lim.groupby('TYPE')['error'].apply(k19b_r2), 2)"
   ]
  },
  {
   "cell_type": "code",
   "execution_count": null,
   "metadata": {},
   "outputs": [],
   "source": []
  },
  {
   "cell_type": "code",
   "execution_count": null,
   "metadata": {},
   "outputs": [],
   "source": []
  }
 ],
 "metadata": {
  "kernelspec": {
   "display_name": "Python 3",
   "language": "python",
   "name": "python3"
  },
  "language_info": {
   "codemirror_mode": {
    "name": "ipython",
    "version": 3
   },
   "file_extension": ".py",
   "mimetype": "text/x-python",
   "name": "python",
   "nbconvert_exporter": "python",
   "pygments_lexer": "ipython3",
   "version": "3.8.8"
  }
 },
 "nbformat": 4,
 "nbformat_minor": 2
}
